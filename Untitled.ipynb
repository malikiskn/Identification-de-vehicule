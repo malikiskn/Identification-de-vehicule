{
 "cells": [
  {
   "cell_type": "code",
   "execution_count": 1,
   "id": "e542028b-5399-4f76-8aa4-936e25105aec",
   "metadata": {},
   "outputs": [
    {
     "name": "stdout",
     "output_type": "stream",
     "text": [
      "Requirement already satisfied: torch in /Users/malicki/myenv/lib/python3.13/site-packages (2.6.0)\n",
      "Requirement already satisfied: filelock in /Users/malicki/myenv/lib/python3.13/site-packages (from torch) (3.17.0)\n",
      "Requirement already satisfied: typing-extensions>=4.10.0 in /Users/malicki/myenv/lib/python3.13/site-packages (from torch) (4.12.2)\n",
      "Requirement already satisfied: networkx in /Users/malicki/myenv/lib/python3.13/site-packages (from torch) (3.4.2)\n",
      "Requirement already satisfied: jinja2 in /Users/malicki/myenv/lib/python3.13/site-packages (from torch) (3.1.4)\n",
      "Requirement already satisfied: fsspec in /Users/malicki/myenv/lib/python3.13/site-packages (from torch) (2025.3.0)\n",
      "Requirement already satisfied: setuptools in /Users/malicki/myenv/lib/python3.13/site-packages (from torch) (75.8.0)\n",
      "Requirement already satisfied: sympy==1.13.1 in /Users/malicki/myenv/lib/python3.13/site-packages (from torch) (1.13.1)\n",
      "Requirement already satisfied: mpmath<1.4,>=1.1.0 in /Users/malicki/myenv/lib/python3.13/site-packages (from sympy==1.13.1->torch) (1.3.0)\n",
      "Requirement already satisfied: MarkupSafe>=2.0 in /Users/malicki/myenv/lib/python3.13/site-packages (from jinja2->torch) (3.0.2)\n",
      "\n",
      "\u001b[1m[\u001b[0m\u001b[34;49mnotice\u001b[0m\u001b[1;39;49m]\u001b[0m\u001b[39;49m A new release of pip is available: \u001b[0m\u001b[31;49m24.3.1\u001b[0m\u001b[39;49m -> \u001b[0m\u001b[32;49m25.0.1\u001b[0m\n",
      "\u001b[1m[\u001b[0m\u001b[34;49mnotice\u001b[0m\u001b[1;39;49m]\u001b[0m\u001b[39;49m To update, run: \u001b[0m\u001b[32;49mpip install --upgrade pip\u001b[0m\n",
      "Using device: mps\n",
      "GPU Usage (MPS):\n",
      "0 bytes allocated\n",
      "475136 bytes reserved by the driver\n",
      "GPU Cache emptied.\n",
      "GPU Usage after emptying the cache:\n",
      "0 bytes allocated\n",
      "475136 bytes reserved by the driver\n"
     ]
    }
   ],
   "source": [
    "# Installer les dépendances nécessaires (si ce n'est pas déjà fait)\n",
    "!pip install torch\n",
    "\n",
    "import torch\n",
    "\n",
    "# Vérifier si MPS (GPU Apple) est disponible\n",
    "if torch.backends.mps.is_available():\n",
    "    device = torch.device(\"mps\")  # Utiliser le GPU Apple\n",
    "else:\n",
    "    device = torch.device(\"cpu\")  # Utiliser le CPU si MPS n'est pas disponible\n",
    "\n",
    "def free_gpu_cache():\n",
    "    print(f\"Using device: {device}\")\n",
    "\n",
    "    # Afficher l'utilisation de la mémoire (CPU ou GPU)\n",
    "    if device.type == \"mps\":\n",
    "        print(\"GPU Usage (MPS):\")\n",
    "        print(torch.mps.current_allocated_memory(), \"bytes allocated\")\n",
    "        print(torch.mps.driver_allocated_memory(), \"bytes reserved by the driver\")\n",
    "    else:\n",
    "        print(\"CPU Usage:\")\n",
    "        print(\"No GPU available, using CPU.\")\n",
    "        \n",
    "\n",
    "    # Libérer la mémoire (si MPS est utilisé)\n",
    "    if device.type == \"mps\":\n",
    "        torch.mps.empty_cache()\n",
    "        print(\"GPU Cache emptied.\")\n",
    "\n",
    "    # Afficher l'utilisation de la mémoire après avoir libéré le cache\n",
    "    if device.type == \"mps\":\n",
    "        print(\"GPU Usage after emptying the cache:\")\n",
    "        print(torch.mps.current_allocated_memory(), \"bytes allocated\")\n",
    "        print(torch.mps.driver_allocated_memory(), \"bytes reserved by the driver\")\n",
    "    else:\n",
    "        print(\"No GPU cache to empty.\")\n",
    "\n",
    "# Exécuter la fonction\n",
    "free_gpu_cache() "
   ]
  },
  {
   "cell_type": "code",
   "execution_count": 2,
   "id": "be7482cf-0ee4-400e-8195-a8e353596555",
   "metadata": {},
   "outputs": [],
   "source": [
    "#!python ./yolov5/train.py --data ./yolov5/data.yaml --cfg ./yolov5/models/yolov5s.yaml --batch-size 8 --name Model --epochs 100"
   ]
  },
  {
   "cell_type": "code",
   "execution_count": 3,
   "id": "8fb335af-c735-4cb3-ae62-897aab657b96",
   "metadata": {},
   "outputs": [],
   "source": [
    "#!python ./yolov5/export.py --weight ./yolov5/runs/train/Model/weights/best.pt --include torchscript onnx"
   ]
  },
  {
   "cell_type": "code",
   "execution_count": null,
   "id": "bc90cf73-f72f-4926-82a3-b1729030c168",
   "metadata": {},
   "outputs": [],
   "source": []
  }
 ],
 "metadata": {
  "kernelspec": {
   "display_name": "Python (yolov5-env)",
   "language": "python",
   "name": "yolov5-env"
  },
  "language_info": {
   "codemirror_mode": {
    "name": "ipython",
    "version": 3
   },
   "file_extension": ".py",
   "mimetype": "text/x-python",
   "name": "python",
   "nbconvert_exporter": "python",
   "pygments_lexer": "ipython3",
   "version": "3.11.9"
  }
 },
 "nbformat": 4,
 "nbformat_minor": 5
}
