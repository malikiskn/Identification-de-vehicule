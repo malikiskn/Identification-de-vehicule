{
 "cells": [
  {
   "cell_type": "code",
   "execution_count": null,
   "id": "e542028b-5399-4f76-8aa4-936e25105aec",
   "metadata": {},
   "outputs": [],
   "source": []
  }
 ],
 "metadata": {
  "kernelspec": {
   "display_name": "Python (yolov5-env)",
   "language": "python",
   "name": "yolov5-env"
  },
  "language_info": {
   "codemirror_mode": {
    "name": "ipython",
    "version": 3
   },
   "file_extension": ".py",
   "mimetype": "text/x-python",
   "name": "python",
   "nbconvert_exporter": "python",
   "pygments_lexer": "ipython3",
   "version": "3.11.9"
  }
 },
 "nbformat": 4,
 "nbformat_minor": 5
}
